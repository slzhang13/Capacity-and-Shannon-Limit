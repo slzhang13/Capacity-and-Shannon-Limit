{
 "cells": [
  {
   "cell_type": "code",
   "execution_count": 1,
   "metadata": {},
   "outputs": [],
   "source": [
    "import numpy as np\n",
    "import torch\n",
    "from tqdm import tqdm\n",
    "from scipy import interpolate\n",
    "\n",
    "\n",
    "class SISO_Capacity:\n",
    "    def __init__(self, args_dict):\n",
    "\n",
    "        self.symbols = args_dict['symbols']\n",
    "        self.chan_type = args_dict['chan_type']\n",
    "\n",
    "        self.M = len(self.symbols)\n",
    "        self.syms_dim = 2 if np.imag(self.symbols).any() else 1\n",
    "\n",
    "        self.device = torch.device(\"cuda:0\")\n",
    "\n",
    "        self.syms_dist = torch.tensor(\n",
    "            np.kron(self.symbols, np.ones((1, self.M)))\n",
    "            - np.kron(np.ones((1, self.M)), self.symbols),\n",
    "            dtype=torch.complex64,\n",
    "            device=self.device,\n",
    "        )\n",
    "\n",
    "    def get_capacity(self, SNR_dB_list, SNR_type, sim_num):\n",
    "\n",
    "        capacity = [0] * len(SNR_dB_list)\n",
    "        SNR_bias = 0\n",
    "        if SNR_type == \"EsN0\" and self.syms_dim == 1:\n",
    "            SNR_bias = 10 * np.log10(2)\n",
    "        if SNR_type == \"EbN0\":\n",
    "            if self.syms_dim == 1:\n",
    "                SNR_bias = 10 * np.log10(2 * np.log2(self.M))\n",
    "            else:\n",
    "                SNR_bias = 10 * np.log10(1 * np.log2(self.M))\n",
    "\n",
    "        for i, SNR_dB in enumerate(SNR_dB_list):\n",
    "            SNR_dB += SNR_bias\n",
    "            capacity[i] = self.get_capacity_SNR(SNR_dB, sim_num)\n",
    "        return capacity\n",
    "\n",
    "    def get_capacity_SNR(self, SNR_dB, sim_num):\n",
    "\n",
    "        SNR = 10 ** (0.1 * SNR_dB)\n",
    "        sigma2 = 1 / SNR\n",
    "\n",
    "        if self.syms_dim == 1:\n",
    "            awgn = np.sqrt(sigma2) * torch.randn(\n",
    "                sim_num, 1, dtype=torch.float32, device=self.device\n",
    "            )\n",
    "        else:\n",
    "            awgn = np.sqrt(sigma2 / 2) * (\n",
    "                torch.randn(sim_num, 1, dtype=torch.float32, device=self.device)\n",
    "                + 1j * torch.randn(sim_num, 1, dtype=torch.float32, device=self.device)\n",
    "            )\n",
    "\n",
    "        if self.chan_type == \"awgn\":\n",
    "            h = 1\n",
    "        else:\n",
    "            h = np.sqrt(1 / 2) * (\n",
    "                torch.randn(sim_num, 1, dtype=torch.float32, device=self.device)\n",
    "                + 1j * torch.randn(sim_num, 1, dtype=torch.float32, device=self.device)\n",
    "            )\n",
    "\n",
    "        if self.syms_dim == 1:\n",
    "            metric = torch.exp(\n",
    "                -abs(awgn + h * self.syms_dist).reshape(sim_num, self.M, self.M) ** 2\n",
    "                / (2 * sigma2)\n",
    "            )\n",
    "        else:\n",
    "            metric = torch.exp(\n",
    "                -abs(awgn + h * self.syms_dist).reshape(sim_num, self.M, self.M) ** 2\n",
    "                / sigma2\n",
    "            )\n",
    "\n",
    "        tmp = torch.log2(metric.sum(axis=2))\n",
    "        tmp = torch.mean(tmp).cpu().numpy()\n",
    "\n",
    "        return np.log2(self.M) - tmp\n",
    "\n"
   ]
  },
  {
   "cell_type": "code",
   "execution_count": 2,
   "metadata": {},
   "outputs": [
    {
     "name": "stderr",
     "output_type": "stream",
     "text": [
      "d:\\Apps\\anaconda3\\lib\\site-packages\\torch\\cuda\\__init__.py:123: UserWarning: \n",
      "    Found GPU0 NVIDIA GeForce GT 730 which is of cuda capability 3.5.\n",
      "    PyTorch no longer supports this GPU because it is too old.\n",
      "    The minimum cuda capability supported by this library is 3.7.\n",
      "    \n",
      "  warnings.warn(old_gpu_warn % (d, name, major, minor, min_arch // 10, min_arch % 10))\n"
     ]
    }
   ],
   "source": [
    "args_dict = dict()\n",
    "args_dict['symbols'] = np.array([[-1, 1]])\n",
    "args_dict['chan_type'] = 'awgn'\n",
    "\n",
    "model = SISO_Capacity(args_dict)\n",
    "\n",
    "model.get_capacity([0], 'SNR', 10)\n"
   ]
  },
  {
   "cell_type": "code",
   "execution_count": 3,
   "metadata": {},
   "outputs": [
    {
     "ename": "RuntimeError",
     "evalue": "CUDA error: no kernel image is available for execution on the device\nCUDA kernel errors might be asynchronously reported at some other API call,so the stacktrace below might be incorrect.\nFor debugging consider passing CUDA_LAUNCH_BLOCKING=1.",
     "output_type": "error",
     "traceback": [
      "\u001b[1;31m---------------------------------------------------------------------------\u001b[0m",
      "\u001b[1;31mRuntimeError\u001b[0m                              Traceback (most recent call last)",
      "\u001b[1;32mc:\\Users\\slzhang\\Desktop\\Capacity-and-Shannon-Limit\\test.ipynb Cell 3\u001b[0m in \u001b[0;36m<cell line: 1>\u001b[1;34m()\u001b[0m\n\u001b[1;32m----> <a href='vscode-notebook-cell:/c%3A/Users/slzhang/Desktop/Capacity-and-Shannon-Limit/test.ipynb#W2sZmlsZQ%3D%3D?line=0'>1</a>\u001b[0m model\u001b[39m.\u001b[39;49mget_capacity([\u001b[39m0\u001b[39;49m], \u001b[39m'\u001b[39;49m\u001b[39mSNR\u001b[39;49m\u001b[39m'\u001b[39;49m, \u001b[39m10\u001b[39;49m)\n",
      "\u001b[1;32mc:\\Users\\slzhang\\Desktop\\Capacity-and-Shannon-Limit\\test.ipynb Cell 3\u001b[0m in \u001b[0;36mSISO_Capacity.get_capacity\u001b[1;34m(self, SNR_dB_list, SNR_type, sim_num)\u001b[0m\n\u001b[0;32m     <a href='vscode-notebook-cell:/c%3A/Users/slzhang/Desktop/Capacity-and-Shannon-Limit/test.ipynb#W2sZmlsZQ%3D%3D?line=36'>37</a>\u001b[0m \u001b[39mfor\u001b[39;00m i, SNR_dB \u001b[39min\u001b[39;00m \u001b[39menumerate\u001b[39m(SNR_dB_list):\n\u001b[0;32m     <a href='vscode-notebook-cell:/c%3A/Users/slzhang/Desktop/Capacity-and-Shannon-Limit/test.ipynb#W2sZmlsZQ%3D%3D?line=37'>38</a>\u001b[0m     SNR_dB \u001b[39m+\u001b[39m\u001b[39m=\u001b[39m SNR_bias\n\u001b[1;32m---> <a href='vscode-notebook-cell:/c%3A/Users/slzhang/Desktop/Capacity-and-Shannon-Limit/test.ipynb#W2sZmlsZQ%3D%3D?line=38'>39</a>\u001b[0m     capacity[i] \u001b[39m=\u001b[39m \u001b[39mself\u001b[39;49m\u001b[39m.\u001b[39;49mget_capacity_SNR(SNR_dB, sim_num)\n\u001b[0;32m     <a href='vscode-notebook-cell:/c%3A/Users/slzhang/Desktop/Capacity-and-Shannon-Limit/test.ipynb#W2sZmlsZQ%3D%3D?line=39'>40</a>\u001b[0m \u001b[39mreturn\u001b[39;00m capacity\n",
      "\u001b[1;32mc:\\Users\\slzhang\\Desktop\\Capacity-and-Shannon-Limit\\test.ipynb Cell 3\u001b[0m in \u001b[0;36mSISO_Capacity.get_capacity_SNR\u001b[1;34m(self, SNR_dB, sim_num)\u001b[0m\n\u001b[0;32m     <a href='vscode-notebook-cell:/c%3A/Users/slzhang/Desktop/Capacity-and-Shannon-Limit/test.ipynb#W2sZmlsZQ%3D%3D?line=44'>45</a>\u001b[0m sigma2 \u001b[39m=\u001b[39m \u001b[39m1\u001b[39m \u001b[39m/\u001b[39m SNR\n\u001b[0;32m     <a href='vscode-notebook-cell:/c%3A/Users/slzhang/Desktop/Capacity-and-Shannon-Limit/test.ipynb#W2sZmlsZQ%3D%3D?line=46'>47</a>\u001b[0m \u001b[39mif\u001b[39;00m \u001b[39mself\u001b[39m\u001b[39m.\u001b[39msyms_dim \u001b[39m==\u001b[39m \u001b[39m1\u001b[39m:\n\u001b[1;32m---> <a href='vscode-notebook-cell:/c%3A/Users/slzhang/Desktop/Capacity-and-Shannon-Limit/test.ipynb#W2sZmlsZQ%3D%3D?line=47'>48</a>\u001b[0m     awgn \u001b[39m=\u001b[39m np\u001b[39m.\u001b[39msqrt(sigma2) \u001b[39m*\u001b[39m torch\u001b[39m.\u001b[39;49mrandn(\n\u001b[0;32m     <a href='vscode-notebook-cell:/c%3A/Users/slzhang/Desktop/Capacity-and-Shannon-Limit/test.ipynb#W2sZmlsZQ%3D%3D?line=48'>49</a>\u001b[0m         sim_num, \u001b[39m1\u001b[39;49m, dtype\u001b[39m=\u001b[39;49mtorch\u001b[39m.\u001b[39;49mfloat32, device\u001b[39m=\u001b[39;49m\u001b[39mself\u001b[39;49m\u001b[39m.\u001b[39;49mdevice\n\u001b[0;32m     <a href='vscode-notebook-cell:/c%3A/Users/slzhang/Desktop/Capacity-and-Shannon-Limit/test.ipynb#W2sZmlsZQ%3D%3D?line=49'>50</a>\u001b[0m     )\n\u001b[0;32m     <a href='vscode-notebook-cell:/c%3A/Users/slzhang/Desktop/Capacity-and-Shannon-Limit/test.ipynb#W2sZmlsZQ%3D%3D?line=50'>51</a>\u001b[0m \u001b[39melse\u001b[39;00m:\n\u001b[0;32m     <a href='vscode-notebook-cell:/c%3A/Users/slzhang/Desktop/Capacity-and-Shannon-Limit/test.ipynb#W2sZmlsZQ%3D%3D?line=51'>52</a>\u001b[0m     awgn \u001b[39m=\u001b[39m np\u001b[39m.\u001b[39msqrt(sigma2 \u001b[39m/\u001b[39m \u001b[39m2\u001b[39m) \u001b[39m*\u001b[39m (\n\u001b[0;32m     <a href='vscode-notebook-cell:/c%3A/Users/slzhang/Desktop/Capacity-and-Shannon-Limit/test.ipynb#W2sZmlsZQ%3D%3D?line=52'>53</a>\u001b[0m         torch\u001b[39m.\u001b[39mrandn(sim_num, \u001b[39m1\u001b[39m, dtype\u001b[39m=\u001b[39mtorch\u001b[39m.\u001b[39mfloat32, device\u001b[39m=\u001b[39m\u001b[39mself\u001b[39m\u001b[39m.\u001b[39mdevice)\n\u001b[0;32m     <a href='vscode-notebook-cell:/c%3A/Users/slzhang/Desktop/Capacity-and-Shannon-Limit/test.ipynb#W2sZmlsZQ%3D%3D?line=53'>54</a>\u001b[0m         \u001b[39m+\u001b[39m \u001b[39m1\u001b[39mj \u001b[39m*\u001b[39m torch\u001b[39m.\u001b[39mrandn(sim_num, \u001b[39m1\u001b[39m, dtype\u001b[39m=\u001b[39mtorch\u001b[39m.\u001b[39mfloat32, device\u001b[39m=\u001b[39m\u001b[39mself\u001b[39m\u001b[39m.\u001b[39mdevice)\n\u001b[0;32m     <a href='vscode-notebook-cell:/c%3A/Users/slzhang/Desktop/Capacity-and-Shannon-Limit/test.ipynb#W2sZmlsZQ%3D%3D?line=54'>55</a>\u001b[0m     )\n",
      "\u001b[1;31mRuntimeError\u001b[0m: CUDA error: no kernel image is available for execution on the device\nCUDA kernel errors might be asynchronously reported at some other API call,so the stacktrace below might be incorrect.\nFor debugging consider passing CUDA_LAUNCH_BLOCKING=1."
     ]
    }
   ],
   "source": [
    "model.get_capacity([0], 'SNR', 10)"
   ]
  },
  {
   "cell_type": "code",
   "execution_count": 4,
   "metadata": {},
   "outputs": [
    {
     "data": {
      "text/plain": [
       "1"
      ]
     },
     "execution_count": 4,
     "metadata": {},
     "output_type": "execute_result"
    }
   ],
   "source": [
    "model.syms_dim"
   ]
  },
  {
   "cell_type": "code",
   "execution_count": 5,
   "metadata": {},
   "outputs": [
    {
     "data": {
      "text/plain": [
       "device(type='cuda', index=0)"
      ]
     },
     "execution_count": 5,
     "metadata": {},
     "output_type": "execute_result"
    }
   ],
   "source": [
    "torch.device(\"cuda:0\")"
   ]
  }
 ],
 "metadata": {
  "kernelspec": {
   "display_name": "Python 3.9.12 ('base')",
   "language": "python",
   "name": "python3"
  },
  "language_info": {
   "codemirror_mode": {
    "name": "ipython",
    "version": 3
   },
   "file_extension": ".py",
   "mimetype": "text/x-python",
   "name": "python",
   "nbconvert_exporter": "python",
   "pygments_lexer": "ipython3",
   "version": "3.9.12"
  },
  "orig_nbformat": 4,
  "vscode": {
   "interpreter": {
    "hash": "a36ac3473f4f765ee1d32c07f947cfa193603dbfd7ba2aa7bf3e12c57f78d587"
   }
  }
 },
 "nbformat": 4,
 "nbformat_minor": 2
}
