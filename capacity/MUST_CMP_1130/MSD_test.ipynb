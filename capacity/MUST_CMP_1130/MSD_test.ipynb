{
 "cells": [
  {
   "cell_type": "code",
   "execution_count": 152,
   "metadata": {},
   "outputs": [],
   "source": [
    "import numpy as np\n",
    "import torch\n",
    "import mod\n",
    "from tqdm import tqdm\n",
    "from matplotlib import pyplot as plt\n",
    "\n",
    "def getMSDRatePair(symbols1, symbols2, SNR1_lin, SNR2_lin, alpha):\n",
    "\n",
    "    M1 = symbols1.size\n",
    "    M2 = symbols2.size\n",
    "\n",
    "    M = M1*M2\n",
    "\n",
    "    device = torch.device('cuda:0')\n",
    "\n",
    "    xx, ww = GH(n=16)\n",
    "    xx = xx.reshape((xx.size, 1, 1))\n",
    "    xx = torch.tensor(xx, dtype=torch.complex64, device=device)\n",
    "    ww = torch.tensor(ww, dtype=torch.float32, device=device)\n",
    "\n",
    "    # 基本层\n",
    "    s1 = torch.tensor(symbols1*np.sqrt(SNR1_lin*(1-alpha)),\n",
    "                      dtype=torch.complex64, device=device)\n",
    "    s2 = torch.tensor(symbols2*np.sqrt(SNR1_lin*alpha),\n",
    "                      dtype=torch.complex64, device=device)\n",
    "\n",
    "    symbols = s1+s2.T\n",
    "    symbols = symbols.reshape((M, 1))\n",
    "\n",
    "    metric_num = torch.exp(-abs(xx-symbols+symbols.T)**2)\n",
    "    metric_den = torch.exp(-abs(xx-s2+s2.T)**2)\n",
    "\n",
    "    tmp_num = torch.log2(torch.sum(metric_num, axis=1))\n",
    "    tmp_den = torch.log2(torch.sum(metric_den, axis=1))\n",
    "\n",
    "    tmp1 = torch.sum(ww*torch.sum(tmp_num, axis=1))/(M*np.pi)\n",
    "    tmp2 = torch.sum(ww*torch.sum(tmp_den, axis=1))/(M2*np.pi)\n",
    "\n",
    "    Rbc = np.log2(M1)-tmp1+tmp2\n",
    "\n",
    "    # 增强层\n",
    "    s2 = torch.tensor(symbols2*np.sqrt(SNR2_lin*alpha),\n",
    "                      dtype=torch.complex64, device=device)\n",
    "\n",
    "    metric2 = torch.exp(-abs(xx-s2+s2.T)**2+abs(xx)**2)\n",
    "\n",
    "    tmp = torch.log2(torch.sum(metric2, axis=1))\n",
    "\n",
    "    Ruc = np.log2(M2)-torch.sum(ww*torch.sum(tmp, axis=1))/(M2*np.pi)\n",
    "\n",
    "    return Rbc, Ruc\n",
    "\n",
    "def GH(n=16):\n",
    "\n",
    "    p = np.zeros((n+1, n+1))\n",
    "    p[0, n] = 1\n",
    "    p[1, n-1:] = np.array([1, 0])*2\n",
    "    for k in range(2, n+1):\n",
    "        p[k, n-k:] = 2*np.append(p[k-1, n-k+1:], 0) - \\\n",
    "            2*(k-1)*np.insert(p[k-2, n-k+2:], 0, [0, 0])\n",
    "\n",
    "    x = np.roots(p[n, :])\n",
    "    w = np.zeros(n)\n",
    "    for k in range(n):\n",
    "        w[k] = 2**(n-1)*np.math.factorial(n)*np.sqrt(np.pi) / \\\n",
    "            (n**2*np.polyval(p[n-1, :], x[k])**2)\n",
    "\n",
    "    x = np.reshape(x, (1, n))\n",
    "    w = np.reshape(w, (1, n))\n",
    "\n",
    "    xx = x+1j*x.T\n",
    "    ww = w*w.T\n",
    "\n",
    "    xx = xx.flatten(order='F')\n",
    "    ww = ww.flatten(order='F')\n",
    "\n",
    "    xx = xx.reshape((1, len(xx)))\n",
    "    ww = ww.reshape((1, len(ww)))\n",
    "\n",
    "    return xx, ww"
   ]
  },
  {
   "cell_type": "code",
   "execution_count": 153,
   "metadata": {},
   "outputs": [],
   "source": [
    "M1 = 4\n",
    "M2 = 4\n",
    "K1 = int(np.log2(M1))\n",
    "K2 = int(np.log2(M2))\n",
    "\n",
    "M = M1*M2\n",
    "K = int(np.log2(M))\n",
    "\n",
    "SNR1_dB = 7\n",
    "SNR2_dB = 10\n",
    "\n",
    "SNR1 = 10**(.1*SNR1_dB)\n",
    "SNR2 = 10**(.1*SNR2_dB)"
   ]
  },
  {
   "cell_type": "code",
   "execution_count": 154,
   "metadata": {},
   "outputs": [],
   "source": [
    "symbols1, labels1 = mod.grayQAM(M1)\n",
    "symbols2, labels2 = mod.grayQAM(M2)\n",
    "# mod.showConsteDiagram(symbols2, labels2)"
   ]
  },
  {
   "cell_type": "code",
   "execution_count": 155,
   "metadata": {},
   "outputs": [
    {
     "name": "stderr",
     "output_type": "stream",
     "text": [
      "100%|██████████| 11/11 [00:00<00:00, 43.14it/s]\n"
     ]
    }
   ],
   "source": [
    "alpha_vec = np.arange(0, 1.1, 0.1)\n",
    "R1 = np.zeros(alpha_vec.size)\n",
    "R2 = np.zeros(alpha_vec.size)\n",
    "\n",
    "for i in tqdm(range(alpha_vec.size)):  \n",
    "    alpha = alpha_vec[i]\n",
    "    r1, r2 = getMSDRatePair(symbols1, symbols2, SNR1, SNR2, alpha)\n",
    "    R1[i] = r1\n",
    "    R2[i] = r2"
   ]
  },
  {
   "cell_type": "code",
   "execution_count": 157,
   "metadata": {},
   "outputs": [
    {
     "data": {
      "text/plain": [
       "(-0.09968324899673463,\n",
       " 2.093350851535797,\n",
       " -0.09510611295700074,\n",
       " 1.9972283720970154)"
      ]
     },
     "execution_count": 157,
     "metadata": {},
     "output_type": "execute_result"
    },
    {
     "data": {
      "image/png": "[encoded data removed]",
      "text/plain": [
       "<Figure size 432x288 with 1 Axes>"
      ]
     },
     "metadata": {
      "needs_background": "light"
     },
     "output_type": "display_data"
    }
   ],
   "source": [
    "plt.plot(R2, R1)\n",
    "plt.grid()\n",
    "plt.axis('equal')"
   ]
  }
 ],
 "metadata": {
  "interpreter": {
   "hash": "7b4b4feff2f24a0f0a34464dbe537a36fda679851528fb8735cb41fa49dffb2d"
  },
  "kernelspec": {
   "display_name": "Python 3.8.8 64-bit ('base': conda)",
   "language": "python",
   "name": "python3"
  },
  "language_info": {
   "codemirror_mode": {
    "name": "ipython",
    "version": 3
   },
   "file_extension": ".py",
   "mimetype": "text/x-python",
   "name": "python",
   "nbconvert_exporter": "python",
   "pygments_lexer": "ipython3",
   "version": "3.8.8"
  },
  "orig_nbformat": 4
 },
 "nbformat": 4,
 "nbformat_minor": 2
}
